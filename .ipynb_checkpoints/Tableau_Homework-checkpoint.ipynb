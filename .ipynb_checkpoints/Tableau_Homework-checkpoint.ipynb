{
 "cells": [
  {
   "cell_type": "code",
   "execution_count": 2,
   "metadata": {},
   "outputs": [
    {
     "data": {
      "text/plain": [
       "['data\\\\JC-201907-citibike-tripdata.csv',\n",
       " 'data\\\\JC-201908-citibike-tripdata.csv',\n",
       " 'data\\\\JC-201909-citibike-tripdata.csv',\n",
       " 'data\\\\JC-201910-citibike-tripdata.csv',\n",
       " 'data\\\\JC-201911-citibike-tripdata.csv',\n",
       " 'data\\\\JC-201912-citibike-tripdata.csv',\n",
       " 'data\\\\JC-202001-citibike-tripdata.csv',\n",
       " 'data\\\\JC-202002-citibike-tripdata.csv',\n",
       " 'data\\\\JC-202003-citibike-tripdata.csv',\n",
       " 'data\\\\JC-202004-citibike-tripdata.csv',\n",
       " 'data\\\\JC-202005-citibike-tripdata.csv',\n",
       " 'data\\\\JC-202006-citibike-tripdata.csv']"
      ]
     },
     "execution_count": 2,
     "metadata": {},
     "output_type": "execute_result"
    }
   ],
   "source": [
    "import glob\n",
    "import pandas as pd\n",
    "\n",
    "file_list = glob.glob(\"data/*.csv\")\n",
    "file_list"
   ]
  },
  {
   "cell_type": "code",
   "execution_count": 3,
   "metadata": {},
   "outputs": [],
   "source": [
    "clean_data = pd.concat([pd.read_csv(f) for f in glob.glob('data/*.csv')], ignore_index = True)"
   ]
  },
  {
   "cell_type": "code",
   "execution_count": 4,
   "metadata": {},
   "outputs": [
    {
     "data": {
      "text/html": [
       "<div>\n",
       "<style scoped>\n",
       "    .dataframe tbody tr th:only-of-type {\n",
       "        vertical-align: middle;\n",
       "    }\n",
       "\n",
       "    .dataframe tbody tr th {\n",
       "        vertical-align: top;\n",
       "    }\n",
       "\n",
       "    .dataframe thead th {\n",
       "        text-align: right;\n",
       "    }\n",
       "</style>\n",
       "<table border=\"1\" class=\"dataframe\">\n",
       "  <thead>\n",
       "    <tr style=\"text-align: right;\">\n",
       "      <th></th>\n",
       "      <th>tripduration</th>\n",
       "      <th>starttime</th>\n",
       "      <th>stoptime</th>\n",
       "      <th>start station id</th>\n",
       "      <th>start station name</th>\n",
       "      <th>start station latitude</th>\n",
       "      <th>start station longitude</th>\n",
       "      <th>end station id</th>\n",
       "      <th>end station name</th>\n",
       "      <th>end station latitude</th>\n",
       "      <th>end station longitude</th>\n",
       "      <th>bikeid</th>\n",
       "      <th>usertype</th>\n",
       "      <th>birth year</th>\n",
       "      <th>gender</th>\n",
       "    </tr>\n",
       "  </thead>\n",
       "  <tbody>\n",
       "    <tr>\n",
       "      <th>0</th>\n",
       "      <td>1793</td>\n",
       "      <td>2019-07-01 00:00:36.6150</td>\n",
       "      <td>2019-07-01 00:30:30.5940</td>\n",
       "      <td>3186</td>\n",
       "      <td>Grove St PATH</td>\n",
       "      <td>40.719586</td>\n",
       "      <td>-74.043117</td>\n",
       "      <td>3198</td>\n",
       "      <td>Heights Elevator</td>\n",
       "      <td>40.748716</td>\n",
       "      <td>-74.040443</td>\n",
       "      <td>29595</td>\n",
       "      <td>Subscriber</td>\n",
       "      <td>1978</td>\n",
       "      <td>1</td>\n",
       "    </tr>\n",
       "    <tr>\n",
       "      <th>1</th>\n",
       "      <td>434</td>\n",
       "      <td>2019-07-01 00:02:54.6150</td>\n",
       "      <td>2019-07-01 00:10:09.0370</td>\n",
       "      <td>3206</td>\n",
       "      <td>Hilltop</td>\n",
       "      <td>40.731169</td>\n",
       "      <td>-74.057574</td>\n",
       "      <td>3280</td>\n",
       "      <td>Astor Place</td>\n",
       "      <td>40.719282</td>\n",
       "      <td>-74.071262</td>\n",
       "      <td>29647</td>\n",
       "      <td>Subscriber</td>\n",
       "      <td>1988</td>\n",
       "      <td>1</td>\n",
       "    </tr>\n",
       "    <tr>\n",
       "      <th>2</th>\n",
       "      <td>251</td>\n",
       "      <td>2019-07-01 00:03:27.5670</td>\n",
       "      <td>2019-07-01 00:07:38.6080</td>\n",
       "      <td>3186</td>\n",
       "      <td>Grove St PATH</td>\n",
       "      <td>40.719586</td>\n",
       "      <td>-74.043117</td>\n",
       "      <td>3205</td>\n",
       "      <td>JC Medical Center</td>\n",
       "      <td>40.716540</td>\n",
       "      <td>-74.049638</td>\n",
       "      <td>26271</td>\n",
       "      <td>Subscriber</td>\n",
       "      <td>1986</td>\n",
       "      <td>1</td>\n",
       "    </tr>\n",
       "    <tr>\n",
       "      <th>3</th>\n",
       "      <td>636</td>\n",
       "      <td>2019-07-01 00:03:56.1690</td>\n",
       "      <td>2019-07-01 00:14:32.4180</td>\n",
       "      <td>3206</td>\n",
       "      <td>Hilltop</td>\n",
       "      <td>40.731169</td>\n",
       "      <td>-74.057574</td>\n",
       "      <td>3281</td>\n",
       "      <td>Leonard Gordon Park</td>\n",
       "      <td>40.745910</td>\n",
       "      <td>-74.057271</td>\n",
       "      <td>26225</td>\n",
       "      <td>Customer</td>\n",
       "      <td>1996</td>\n",
       "      <td>2</td>\n",
       "    </tr>\n",
       "    <tr>\n",
       "      <th>4</th>\n",
       "      <td>623</td>\n",
       "      <td>2019-07-01 00:04:16.2060</td>\n",
       "      <td>2019-07-01 00:14:40.0500</td>\n",
       "      <td>3206</td>\n",
       "      <td>Hilltop</td>\n",
       "      <td>40.731169</td>\n",
       "      <td>-74.057574</td>\n",
       "      <td>3281</td>\n",
       "      <td>Leonard Gordon Park</td>\n",
       "      <td>40.745910</td>\n",
       "      <td>-74.057271</td>\n",
       "      <td>29230</td>\n",
       "      <td>Customer</td>\n",
       "      <td>1989</td>\n",
       "      <td>1</td>\n",
       "    </tr>\n",
       "  </tbody>\n",
       "</table>\n",
       "</div>"
      ],
      "text/plain": [
       "   tripduration                 starttime                  stoptime  \\\n",
       "0          1793  2019-07-01 00:00:36.6150  2019-07-01 00:30:30.5940   \n",
       "1           434  2019-07-01 00:02:54.6150  2019-07-01 00:10:09.0370   \n",
       "2           251  2019-07-01 00:03:27.5670  2019-07-01 00:07:38.6080   \n",
       "3           636  2019-07-01 00:03:56.1690  2019-07-01 00:14:32.4180   \n",
       "4           623  2019-07-01 00:04:16.2060  2019-07-01 00:14:40.0500   \n",
       "\n",
       "   start station id start station name  start station latitude  \\\n",
       "0              3186      Grove St PATH               40.719586   \n",
       "1              3206            Hilltop               40.731169   \n",
       "2              3186      Grove St PATH               40.719586   \n",
       "3              3206            Hilltop               40.731169   \n",
       "4              3206            Hilltop               40.731169   \n",
       "\n",
       "   start station longitude  end station id     end station name  \\\n",
       "0               -74.043117            3198     Heights Elevator   \n",
       "1               -74.057574            3280          Astor Place   \n",
       "2               -74.043117            3205    JC Medical Center   \n",
       "3               -74.057574            3281  Leonard Gordon Park   \n",
       "4               -74.057574            3281  Leonard Gordon Park   \n",
       "\n",
       "   end station latitude  end station longitude  bikeid    usertype  \\\n",
       "0             40.748716             -74.040443   29595  Subscriber   \n",
       "1             40.719282             -74.071262   29647  Subscriber   \n",
       "2             40.716540             -74.049638   26271  Subscriber   \n",
       "3             40.745910             -74.057271   26225    Customer   \n",
       "4             40.745910             -74.057271   29230    Customer   \n",
       "\n",
       "   birth year  gender  \n",
       "0        1978       1  \n",
       "1        1988       1  \n",
       "2        1986       1  \n",
       "3        1996       2  \n",
       "4        1989       1  "
      ]
     },
     "execution_count": 4,
     "metadata": {},
     "output_type": "execute_result"
    }
   ],
   "source": [
    "clean_data.head()"
   ]
  },
  {
   "cell_type": "code",
   "execution_count": 6,
   "metadata": {},
   "outputs": [],
   "source": [
    "clean_data.to_csv(\"clean_data_19-20.csv\")"
   ]
  },
  {
   "cell_type": "code",
   "execution_count": 7,
   "metadata": {},
   "outputs": [
    {
     "data": {
      "text/plain": [
       "tripduration               372446\n",
       "starttime                  372446\n",
       "stoptime                   372446\n",
       "start station id           372446\n",
       "start station name         372446\n",
       "start station latitude     372446\n",
       "start station longitude    372446\n",
       "end station id             372446\n",
       "end station name           372446\n",
       "end station latitude       372446\n",
       "end station longitude      372446\n",
       "bikeid                     372446\n",
       "usertype                   372446\n",
       "birth year                 372446\n",
       "gender                     372446\n",
       "dtype: int64"
      ]
     },
     "execution_count": 7,
     "metadata": {},
     "output_type": "execute_result"
    }
   ],
   "source": [
    "clean_data.count()"
   ]
  },
  {
   "cell_type": "code",
   "execution_count": null,
   "metadata": {},
   "outputs": [],
   "source": []
  }
 ],
 "metadata": {
  "kernelspec": {
   "display_name": "Python 3",
   "language": "python",
   "name": "python3"
  },
  "language_info": {
   "codemirror_mode": {
    "name": "ipython",
    "version": 3
   },
   "file_extension": ".py",
   "mimetype": "text/x-python",
   "name": "python",
   "nbconvert_exporter": "python",
   "pygments_lexer": "ipython3",
   "version": "3.7.6"
  }
 },
 "nbformat": 4,
 "nbformat_minor": 4
}
